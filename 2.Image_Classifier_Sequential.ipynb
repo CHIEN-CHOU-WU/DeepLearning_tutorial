{
 "cells": [
  {
   "cell_type": "markdown",
   "metadata": {},
   "source": [
    "## Imports"
   ]
  },
  {
   "cell_type": "code",
   "execution_count": 1,
   "metadata": {},
   "outputs": [
    {
     "name": "stdout",
     "output_type": "stream",
     "text": [
      "2.8.0\n",
      "2.8.0\n"
     ]
    }
   ],
   "source": [
    "import matplotlib.pyplot as plt\n",
    "import numpy as np\n",
    "import pandas as pd\n",
    "import tensorflow as tf\n",
    "from tensorflow import keras\n",
    "\n",
    "print(tf.__version__)\n",
    "print(keras.__version__)"
   ]
  },
  {
   "cell_type": "markdown",
   "metadata": {},
   "source": [
    "## Load a dataset"
   ]
  },
  {
   "cell_type": "code",
   "execution_count": 2,
   "metadata": {},
   "outputs": [
    {
     "name": "stdout",
     "output_type": "stream",
     "text": [
      "(60000, 28, 28)\n",
      "uint8\n"
     ]
    }
   ],
   "source": [
    "fasion_mnist = keras.datasets.fashion_mnist\n",
    "(X_train_full, y_train_full), (X_test, y_test) = fasion_mnist.load_data()\n",
    "\n",
    "print(X_train_full.shape)\n",
    "print(X_train_full.dtype)"
   ]
  },
  {
   "cell_type": "code",
   "execution_count": 3,
   "metadata": {},
   "outputs": [
    {
     "data": {
      "image/png": "[encoded data removed]",
      "text/plain": [
       "<Figure size 432x288 with 1 Axes>"
      ]
     },
     "metadata": {
      "needs_background": "light"
     },
     "output_type": "display_data"
    }
   ],
   "source": [
    "plt.imshow(X_train_full[0])\n",
    "plt.show()"
   ]
  },
  {
   "cell_type": "code",
   "execution_count": 4,
   "metadata": {},
   "outputs": [],
   "source": [
    "class_name=[\"T-shirt/top\", \"Trouser\", \"Pillover\", \"Dress\", \"Coat\", \"Sandal\", \"Shirt\", \"Sneaker\", \"Bag\", \"Ankel boot\"]"
   ]
  },
  {
   "cell_type": "markdown",
   "metadata": {},
   "source": [
    "## Create validation set and scale pixel intensities down to the 0-1 range"
   ]
  },
  {
   "cell_type": "code",
   "execution_count": 5,
   "metadata": {},
   "outputs": [],
   "source": [
    "X_valid, X_train = X_train_full[:5000] / 255.0, X_train_full[5000:] /255.0\n",
    "y_valid, y_train = y_train_full[:5000], y_train_full[5000:]"
   ]
  },
  {
   "cell_type": "markdown",
   "metadata": {},
   "source": [
    "## Creating the model using the Sequential API"
   ]
  },
  {
   "cell_type": "markdown",
   "metadata": {},
   "source": [
    "Method 1"
   ]
  },
  {
   "cell_type": "code",
   "execution_count": 6,
   "metadata": {},
   "outputs": [
    {
     "name": "stderr",
     "output_type": "stream",
     "text": [
      "2022-03-22 17:28:55.562148: I tensorflow/core/platform/cpu_feature_guard.cc:151] This TensorFlow binary is optimized with oneAPI Deep Neural Network Library (oneDNN) to use the following CPU instructions in performance-critical operations:  AVX2 FMA\n",
      "To enable them in other operations, rebuild TensorFlow with the appropriate compiler flags.\n"
     ]
    }
   ],
   "source": [
    "model = keras.models.Sequential()\n",
    "model.add(keras.layers.Flatten(input_shape=[28,28]))\n",
    "model.add(keras.layers.Dense(300, activation=\"relu\"))\n",
    "model.add(keras.layers.Dense(100, activation=\"relu\"))\n",
    "model.add(keras.layers.Dense(10, activation=\"softmax\"))"
   ]
  },
  {
   "cell_type": "markdown",
   "metadata": {},
   "source": [
    "Method 2"
   ]
  },
  {
   "cell_type": "code",
   "execution_count": 7,
   "metadata": {},
   "outputs": [],
   "source": [
    "model = keras.models.Sequential([\n",
    "    keras.layers.Flatten(input_shape=[28, 28]),\n",
    "    keras.layers.Dense(300, activation=\"relu\"),\n",
    "    keras.layers.Dense(100, activation=\"relu\"),\n",
    "    keras.layers.Dense(10, activation=\"softmax\")\n",
    "])"
   ]
  },
  {
   "cell_type": "markdown",
   "metadata": {},
   "source": [
    "**model observation**"
   ]
  },
  {
   "cell_type": "code",
   "execution_count": 8,
   "metadata": {},
   "outputs": [
    {
     "name": "stdout",
     "output_type": "stream",
     "text": [
      "Model: \"sequential_1\"\n",
      "_________________________________________________________________\n",
      " Layer (type)                Output Shape              Param #   \n",
      "=================================================================\n",
      " flatten_1 (Flatten)         (None, 784)               0         \n",
      "                                                                 \n",
      " dense_3 (Dense)             (None, 300)               235500    \n",
      "                                                                 \n",
      " dense_4 (Dense)             (None, 100)               30100     \n",
      "                                                                 \n",
      " dense_5 (Dense)             (None, 10)                1010      \n",
      "                                                                 \n",
      "=================================================================\n",
      "Total params: 266,610\n",
      "Trainable params: 266,610\n",
      "Non-trainable params: 0\n",
      "_________________________________________________________________\n"
     ]
    }
   ],
   "source": [
    "model.summary()"
   ]
  },
  {
   "cell_type": "code",
   "execution_count": 9,
   "metadata": {},
   "outputs": [
    {
     "data": {
      "text/plain": [
       "[<keras.layers.core.flatten.Flatten at 0x122dfc880>,\n",
       " <keras.layers.core.dense.Dense at 0x122dfcca0>,\n",
       " <keras.layers.core.dense.Dense at 0x122df8c10>,\n",
       " <keras.layers.core.dense.Dense at 0x122cacd90>]"
      ]
     },
     "execution_count": 9,
     "metadata": {},
     "output_type": "execute_result"
    }
   ],
   "source": [
    "model.layers"
   ]
  },
  {
   "cell_type": "code",
   "execution_count": 10,
   "metadata": {},
   "outputs": [
    {
     "data": {
      "text/plain": [
       "'dense_3'"
      ]
     },
     "execution_count": 10,
     "metadata": {},
     "output_type": "execute_result"
    }
   ],
   "source": [
    "hidden1 = model.layers[1]\n",
    "hidden1.name"
   ]
  },
  {
   "cell_type": "code",
   "execution_count": 11,
   "metadata": {},
   "outputs": [
    {
     "data": {
      "text/plain": [
       "array([[-0.05052055,  0.07208587, -0.02587957, ...,  0.06504478,\n",
       "         0.05272929,  0.04500652],\n",
       "       [-0.00895469,  0.04138553,  0.07132776, ..., -0.05440361,\n",
       "         0.02652476,  0.009724  ],\n",
       "       [-0.04761991,  0.00437016,  0.05876487, ...,  0.00238393,\n",
       "        -0.05626288,  0.02982739],\n",
       "       ...,\n",
       "       [ 0.04016125, -0.04983333, -0.06996217, ...,  0.01821626,\n",
       "         0.06117094, -0.0069335 ],\n",
       "       [ 0.02180889,  0.02072062, -0.04131957, ..., -0.04201282,\n",
       "         0.01783536,  0.04734427],\n",
       "       [-0.02181625, -0.04036215,  0.05288179, ..., -0.02717753,\n",
       "         0.00438832,  0.01785411]], dtype=float32)"
      ]
     },
     "execution_count": 11,
     "metadata": {},
     "output_type": "execute_result"
    }
   ],
   "source": [
    "weights, biases = hidden1.get_weights()\n",
    "weights"
   ]
  },
  {
   "cell_type": "code",
   "execution_count": 12,
   "metadata": {},
   "outputs": [
    {
     "data": {
      "text/plain": [
       "array([0., 0., 0., 0., 0., 0., 0., 0., 0., 0., 0., 0., 0., 0., 0., 0., 0.,\n",
       "       0., 0., 0., 0., 0., 0., 0., 0., 0., 0., 0., 0., 0., 0., 0., 0., 0.,\n",
       "       0., 0., 0., 0., 0., 0., 0., 0., 0., 0., 0., 0., 0., 0., 0., 0., 0.,\n",
       "       0., 0., 0., 0., 0., 0., 0., 0., 0., 0., 0., 0., 0., 0., 0., 0., 0.,\n",
       "       0., 0., 0., 0., 0., 0., 0., 0., 0., 0., 0., 0., 0., 0., 0., 0., 0.,\n",
       "       0., 0., 0., 0., 0., 0., 0., 0., 0., 0., 0., 0., 0., 0., 0., 0., 0.,\n",
       "       0., 0., 0., 0., 0., 0., 0., 0., 0., 0., 0., 0., 0., 0., 0., 0., 0.,\n",
       "       0., 0., 0., 0., 0., 0., 0., 0., 0., 0., 0., 0., 0., 0., 0., 0., 0.,\n",
       "       0., 0., 0., 0., 0., 0., 0., 0., 0., 0., 0., 0., 0., 0., 0., 0., 0.,\n",
       "       0., 0., 0., 0., 0., 0., 0., 0., 0., 0., 0., 0., 0., 0., 0., 0., 0.,\n",
       "       0., 0., 0., 0., 0., 0., 0., 0., 0., 0., 0., 0., 0., 0., 0., 0., 0.,\n",
       "       0., 0., 0., 0., 0., 0., 0., 0., 0., 0., 0., 0., 0., 0., 0., 0., 0.,\n",
       "       0., 0., 0., 0., 0., 0., 0., 0., 0., 0., 0., 0., 0., 0., 0., 0., 0.,\n",
       "       0., 0., 0., 0., 0., 0., 0., 0., 0., 0., 0., 0., 0., 0., 0., 0., 0.,\n",
       "       0., 0., 0., 0., 0., 0., 0., 0., 0., 0., 0., 0., 0., 0., 0., 0., 0.,\n",
       "       0., 0., 0., 0., 0., 0., 0., 0., 0., 0., 0., 0., 0., 0., 0., 0., 0.,\n",
       "       0., 0., 0., 0., 0., 0., 0., 0., 0., 0., 0., 0., 0., 0., 0., 0., 0.,\n",
       "       0., 0., 0., 0., 0., 0., 0., 0., 0., 0., 0.], dtype=float32)"
      ]
     },
     "execution_count": 12,
     "metadata": {},
     "output_type": "execute_result"
    }
   ],
   "source": [
    "biases"
   ]
  },
  {
   "cell_type": "markdown",
   "metadata": {},
   "source": [
    "**Compiling the model**"
   ]
  },
  {
   "cell_type": "code",
   "execution_count": 13,
   "metadata": {},
   "outputs": [],
   "source": [
    "model.compile(loss=\"sparse_categorical_crossentropy\",\n",
    "              optimizer=keras.optimizers.SGD(learning_rate=0.01),\n",
    "              metrics=[\"accuracy\"])"
   ]
  },
  {
   "cell_type": "markdown",
   "metadata": {},
   "source": [
    "**Training and evaluatung model**"
   ]
  },
  {
   "cell_type": "markdown",
   "metadata": {},
   "source": [
    "method1"
   ]
  },
  {
   "cell_type": "code",
   "execution_count": 14,
   "metadata": {},
   "outputs": [
    {
     "name": "stdout",
     "output_type": "stream",
     "text": [
      "Epoch 1/30\n",
      "1719/1719 [==============================] - 3s 2ms/step - loss: 0.6916 - accuracy: 0.7744 - val_loss: 0.4955 - val_accuracy: 0.8342\n",
      "Epoch 2/30\n",
      "1719/1719 [==============================] - 3s 1ms/step - loss: 0.4834 - accuracy: 0.8324 - val_loss: 0.4424 - val_accuracy: 0.8460\n",
      "Epoch 3/30\n",
      "1719/1719 [==============================] - 3s 1ms/step - loss: 0.4388 - accuracy: 0.8471 - val_loss: 0.4425 - val_accuracy: 0.8332\n",
      "Epoch 4/30\n",
      "1719/1719 [==============================] - 3s 1ms/step - loss: 0.4117 - accuracy: 0.8552 - val_loss: 0.3886 - val_accuracy: 0.8654\n",
      "Epoch 5/30\n",
      "1719/1719 [==============================] - 3s 1ms/step - loss: 0.3930 - accuracy: 0.8604 - val_loss: 0.3840 - val_accuracy: 0.8676\n",
      "Epoch 6/30\n",
      "1719/1719 [==============================] - 3s 2ms/step - loss: 0.3764 - accuracy: 0.8675 - val_loss: 0.3923 - val_accuracy: 0.8606\n",
      "Epoch 7/30\n",
      "1719/1719 [==============================] - 2s 1ms/step - loss: 0.3633 - accuracy: 0.8716 - val_loss: 0.3620 - val_accuracy: 0.8740\n",
      "Epoch 8/30\n",
      "1719/1719 [==============================] - 2s 1ms/step - loss: 0.3512 - accuracy: 0.8755 - val_loss: 0.3590 - val_accuracy: 0.8746\n",
      "Epoch 9/30\n",
      "1719/1719 [==============================] - 3s 2ms/step - loss: 0.3419 - accuracy: 0.8789 - val_loss: 0.3460 - val_accuracy: 0.8748\n",
      "Epoch 10/30\n",
      "1719/1719 [==============================] - 3s 2ms/step - loss: 0.3333 - accuracy: 0.8806 - val_loss: 0.3643 - val_accuracy: 0.8714\n",
      "Epoch 11/30\n",
      "1719/1719 [==============================] - 3s 2ms/step - loss: 0.3240 - accuracy: 0.8858 - val_loss: 0.3420 - val_accuracy: 0.8794\n",
      "Epoch 12/30\n",
      "1719/1719 [==============================] - 3s 1ms/step - loss: 0.3173 - accuracy: 0.8854 - val_loss: 0.3466 - val_accuracy: 0.8770\n",
      "Epoch 13/30\n",
      "1719/1719 [==============================] - 2s 1ms/step - loss: 0.3092 - accuracy: 0.8883 - val_loss: 0.3403 - val_accuracy: 0.8772\n",
      "Epoch 14/30\n",
      "1719/1719 [==============================] - 2s 1ms/step - loss: 0.3030 - accuracy: 0.8906 - val_loss: 0.3308 - val_accuracy: 0.8796\n",
      "Epoch 15/30\n",
      "1719/1719 [==============================] - 2s 1ms/step - loss: 0.2971 - accuracy: 0.8939 - val_loss: 0.3299 - val_accuracy: 0.8820\n",
      "Epoch 16/30\n",
      "1719/1719 [==============================] - 2s 1ms/step - loss: 0.2901 - accuracy: 0.8963 - val_loss: 0.3232 - val_accuracy: 0.8846\n",
      "Epoch 17/30\n",
      "1719/1719 [==============================] - 2s 1ms/step - loss: 0.2851 - accuracy: 0.8982 - val_loss: 0.3269 - val_accuracy: 0.8858\n",
      "Epoch 18/30\n",
      "1719/1719 [==============================] - 2s 1ms/step - loss: 0.2800 - accuracy: 0.9002 - val_loss: 0.3191 - val_accuracy: 0.8864\n",
      "Epoch 19/30\n",
      "1719/1719 [==============================] - 2s 1ms/step - loss: 0.2752 - accuracy: 0.9004 - val_loss: 0.3164 - val_accuracy: 0.8868\n",
      "Epoch 20/30\n",
      "1719/1719 [==============================] - 2s 1ms/step - loss: 0.2696 - accuracy: 0.9032 - val_loss: 0.3227 - val_accuracy: 0.8806\n",
      "Epoch 21/30\n",
      "1719/1719 [==============================] - 2s 1ms/step - loss: 0.2643 - accuracy: 0.9048 - val_loss: 0.3146 - val_accuracy: 0.8848\n",
      "Epoch 22/30\n",
      "1719/1719 [==============================] - 2s 1ms/step - loss: 0.2599 - accuracy: 0.9072 - val_loss: 0.3358 - val_accuracy: 0.8742\n",
      "Epoch 23/30\n",
      "1719/1719 [==============================] - 2s 1ms/step - loss: 0.2565 - accuracy: 0.9077 - val_loss: 0.2967 - val_accuracy: 0.8924\n",
      "Epoch 24/30\n",
      "1719/1719 [==============================] - 2s 1ms/step - loss: 0.2521 - accuracy: 0.9093 - val_loss: 0.2989 - val_accuracy: 0.8940\n",
      "Epoch 25/30\n",
      "1719/1719 [==============================] - 2s 1ms/step - loss: 0.2480 - accuracy: 0.9107 - val_loss: 0.3021 - val_accuracy: 0.8904\n",
      "Epoch 26/30\n",
      "1719/1719 [==============================] - 2s 1ms/step - loss: 0.2439 - accuracy: 0.9120 - val_loss: 0.3052 - val_accuracy: 0.8900\n",
      "Epoch 27/30\n",
      "1719/1719 [==============================] - 2s 1ms/step - loss: 0.2396 - accuracy: 0.9137 - val_loss: 0.2950 - val_accuracy: 0.8930\n",
      "Epoch 28/30\n",
      "1719/1719 [==============================] - 2s 1ms/step - loss: 0.2359 - accuracy: 0.9155 - val_loss: 0.2985 - val_accuracy: 0.8916\n",
      "Epoch 29/30\n",
      "1719/1719 [==============================] - 2s 1ms/step - loss: 0.2323 - accuracy: 0.9160 - val_loss: 0.2974 - val_accuracy: 0.8900\n",
      "Epoch 30/30\n",
      "1719/1719 [==============================] - 2s 1ms/step - loss: 0.2278 - accuracy: 0.9181 - val_loss: 0.2966 - val_accuracy: 0.8920\n"
     ]
    }
   ],
   "source": [
    "history = model.fit(X_train, y_train, epochs=30,\n",
    "                    validation_data=(X_valid, y_valid))"
   ]
  },
  {
   "cell_type": "code",
   "execution_count": 15,
   "metadata": {},
   "outputs": [
    {
     "data": {
      "text/plain": [
       "(0.0, 1.0)"
      ]
     },
     "execution_count": 15,
     "metadata": {},
     "output_type": "execute_result"
    },
    {
     "data": {
      "image/png": "[encoded data removed]",
      "text/plain": [
       "<Figure size 576x360 with 1 Axes>"
      ]
     },
     "metadata": {
      "needs_background": "light"
     },
     "output_type": "display_data"
    }
   ],
   "source": [
    "pd.DataFrame(history.history).plot(figsize=(8, 5))\n",
    "plt.grid(True)\n",
    "plt.ylim(0, 1)"
   ]
  },
  {
   "cell_type": "markdown",
   "metadata": {},
   "source": [
    "method2"
   ]
  },
  {
   "cell_type": "code",
   "execution_count": 16,
   "metadata": {},
   "outputs": [],
   "source": [
    "model = keras.models.Sequential([\n",
    "    keras.layers.Flatten(input_shape=[28, 28]),\n",
    "    keras.layers.Dense(300, activation=\"relu\"),\n",
    "    keras.layers.Dense(100, activation=\"relu\"),\n",
    "    keras.layers.Dense(10, activation=\"softmax\")\n",
    "])\n",
    "model.compile(loss=\"sparse_categorical_crossentropy\",\n",
    "              optimizer=keras.optimizers.SGD(learning_rate=0.01),\n",
    "              metrics=[\"accuracy\"])"
   ]
  },
  {
   "cell_type": "code",
   "execution_count": 17,
   "metadata": {},
   "outputs": [
    {
     "name": "stdout",
     "output_type": "stream",
     "text": [
      "Epoch 1/60\n",
      "1375/1375 [==============================] - 2s 2ms/step - loss: 0.7811 - accuracy: 0.7460 - val_loss: 0.5451 - val_accuracy: 0.8125\n",
      "Epoch 2/60\n",
      "1375/1375 [==============================] - 2s 1ms/step - loss: 0.5127 - accuracy: 0.8218 - val_loss: 0.4884 - val_accuracy: 0.8274\n",
      "Epoch 3/60\n",
      "1375/1375 [==============================] - 2s 1ms/step - loss: 0.4619 - accuracy: 0.8405 - val_loss: 0.4991 - val_accuracy: 0.8180\n",
      "Epoch 4/60\n",
      "1375/1375 [==============================] - 2s 1ms/step - loss: 0.4318 - accuracy: 0.8495 - val_loss: 0.4367 - val_accuracy: 0.8449\n",
      "Epoch 5/60\n",
      "1375/1375 [==============================] - 2s 2ms/step - loss: 0.4100 - accuracy: 0.8567 - val_loss: 0.4317 - val_accuracy: 0.8451\n",
      "Epoch 6/60\n",
      "1375/1375 [==============================] - 2s 1ms/step - loss: 0.3924 - accuracy: 0.8617 - val_loss: 0.4045 - val_accuracy: 0.8606\n",
      "Epoch 7/60\n",
      "1375/1375 [==============================] - 2s 1ms/step - loss: 0.3785 - accuracy: 0.8668 - val_loss: 0.3910 - val_accuracy: 0.8645\n",
      "Epoch 8/60\n",
      "1375/1375 [==============================] - 2s 1ms/step - loss: 0.3656 - accuracy: 0.8711 - val_loss: 0.3973 - val_accuracy: 0.8605\n",
      "Epoch 9/60\n",
      "1375/1375 [==============================] - 2s 1ms/step - loss: 0.3549 - accuracy: 0.8738 - val_loss: 0.3820 - val_accuracy: 0.8630\n",
      "Epoch 10/60\n",
      "1375/1375 [==============================] - 2s 2ms/step - loss: 0.3451 - accuracy: 0.8783 - val_loss: 0.3740 - val_accuracy: 0.8678\n",
      "Epoch 11/60\n",
      "1375/1375 [==============================] - 2s 1ms/step - loss: 0.3368 - accuracy: 0.8801 - val_loss: 0.3655 - val_accuracy: 0.8703\n",
      "Epoch 12/60\n",
      "1375/1375 [==============================] - 2s 1ms/step - loss: 0.3282 - accuracy: 0.8826 - val_loss: 0.3739 - val_accuracy: 0.8680\n",
      "Epoch 13/60\n",
      "1375/1375 [==============================] - 2s 1ms/step - loss: 0.3206 - accuracy: 0.8848 - val_loss: 0.3661 - val_accuracy: 0.8737\n",
      "Epoch 14/60\n",
      "1375/1375 [==============================] - 2s 1ms/step - loss: 0.3148 - accuracy: 0.8874 - val_loss: 0.3532 - val_accuracy: 0.8755\n",
      "Epoch 15/60\n",
      "1375/1375 [==============================] - 2s 1ms/step - loss: 0.3065 - accuracy: 0.8909 - val_loss: 0.3590 - val_accuracy: 0.8752\n",
      "Epoch 16/60\n",
      "1375/1375 [==============================] - 2s 2ms/step - loss: 0.3010 - accuracy: 0.8925 - val_loss: 0.3550 - val_accuracy: 0.8726\n",
      "Epoch 17/60\n",
      "1375/1375 [==============================] - 2s 1ms/step - loss: 0.2949 - accuracy: 0.8952 - val_loss: 0.3440 - val_accuracy: 0.8801\n",
      "Epoch 18/60\n",
      "1375/1375 [==============================] - 2s 1ms/step - loss: 0.2892 - accuracy: 0.8963 - val_loss: 0.3552 - val_accuracy: 0.8705\n",
      "Epoch 19/60\n",
      "1375/1375 [==============================] - 2s 1ms/step - loss: 0.2838 - accuracy: 0.8986 - val_loss: 0.3568 - val_accuracy: 0.8725\n",
      "Epoch 20/60\n",
      "1375/1375 [==============================] - 2s 1ms/step - loss: 0.2789 - accuracy: 0.8998 - val_loss: 0.3466 - val_accuracy: 0.8759\n",
      "Epoch 21/60\n",
      "1375/1375 [==============================] - 2s 1ms/step - loss: 0.2743 - accuracy: 0.9020 - val_loss: 0.3454 - val_accuracy: 0.8802\n",
      "Epoch 22/60\n",
      "1375/1375 [==============================] - 2s 2ms/step - loss: 0.2689 - accuracy: 0.9038 - val_loss: 0.3311 - val_accuracy: 0.8810\n",
      "Epoch 23/60\n",
      "1375/1375 [==============================] - 2s 2ms/step - loss: 0.2644 - accuracy: 0.9049 - val_loss: 0.3305 - val_accuracy: 0.8821\n",
      "Epoch 24/60\n",
      "1375/1375 [==============================] - 2s 1ms/step - loss: 0.2597 - accuracy: 0.9080 - val_loss: 0.3658 - val_accuracy: 0.8699\n",
      "Epoch 25/60\n",
      "1375/1375 [==============================] - 2s 1ms/step - loss: 0.2561 - accuracy: 0.9077 - val_loss: 0.3402 - val_accuracy: 0.8813\n",
      "Epoch 26/60\n",
      "1375/1375 [==============================] - 2s 1ms/step - loss: 0.2510 - accuracy: 0.9103 - val_loss: 0.3355 - val_accuracy: 0.8803\n",
      "Epoch 27/60\n",
      "1375/1375 [==============================] - 2s 1ms/step - loss: 0.2479 - accuracy: 0.9108 - val_loss: 0.3375 - val_accuracy: 0.8795\n",
      "Epoch 28/60\n",
      "1375/1375 [==============================] - 2s 1ms/step - loss: 0.2434 - accuracy: 0.9130 - val_loss: 0.3316 - val_accuracy: 0.8834\n",
      "Epoch 29/60\n",
      "1375/1375 [==============================] - 2s 1ms/step - loss: 0.2411 - accuracy: 0.9131 - val_loss: 0.3387 - val_accuracy: 0.8801\n",
      "Epoch 30/60\n",
      "1375/1375 [==============================] - 2s 1ms/step - loss: 0.2349 - accuracy: 0.9165 - val_loss: 0.3243 - val_accuracy: 0.8855\n",
      "Epoch 31/60\n",
      "1375/1375 [==============================] - 2s 1ms/step - loss: 0.2318 - accuracy: 0.9173 - val_loss: 0.3352 - val_accuracy: 0.8796\n",
      "Epoch 32/60\n",
      "1375/1375 [==============================] - 2s 1ms/step - loss: 0.2281 - accuracy: 0.9194 - val_loss: 0.3327 - val_accuracy: 0.8818\n",
      "Epoch 33/60\n",
      "1375/1375 [==============================] - 2s 1ms/step - loss: 0.2247 - accuracy: 0.9200 - val_loss: 0.3268 - val_accuracy: 0.8855\n",
      "Epoch 34/60\n",
      "1375/1375 [==============================] - 2s 1ms/step - loss: 0.2217 - accuracy: 0.9223 - val_loss: 0.3187 - val_accuracy: 0.8871\n",
      "Epoch 35/60\n",
      "1375/1375 [==============================] - 2s 2ms/step - loss: 0.2183 - accuracy: 0.9221 - val_loss: 0.3391 - val_accuracy: 0.8835\n",
      "Epoch 36/60\n",
      "1375/1375 [==============================] - 2s 1ms/step - loss: 0.2149 - accuracy: 0.9236 - val_loss: 0.3250 - val_accuracy: 0.8875\n",
      "Epoch 37/60\n",
      "1375/1375 [==============================] - 2s 1ms/step - loss: 0.2104 - accuracy: 0.9251 - val_loss: 0.3310 - val_accuracy: 0.8824\n",
      "Epoch 38/60\n",
      "1375/1375 [==============================] - 2s 1ms/step - loss: 0.2080 - accuracy: 0.9255 - val_loss: 0.3181 - val_accuracy: 0.8883\n",
      "Epoch 39/60\n",
      "1375/1375 [==============================] - 2s 1ms/step - loss: 0.2051 - accuracy: 0.9276 - val_loss: 0.3647 - val_accuracy: 0.8715\n",
      "Epoch 40/60\n",
      "1375/1375 [==============================] - 2s 1ms/step - loss: 0.2029 - accuracy: 0.9288 - val_loss: 0.3388 - val_accuracy: 0.8785\n",
      "Epoch 41/60\n",
      "1375/1375 [==============================] - 2s 1ms/step - loss: 0.1988 - accuracy: 0.9293 - val_loss: 0.3223 - val_accuracy: 0.8866\n",
      "Epoch 42/60\n",
      "1375/1375 [==============================] - 2s 1ms/step - loss: 0.1955 - accuracy: 0.9311 - val_loss: 0.3252 - val_accuracy: 0.8882\n",
      "Epoch 43/60\n",
      "1375/1375 [==============================] - 2s 1ms/step - loss: 0.1929 - accuracy: 0.9308 - val_loss: 0.3242 - val_accuracy: 0.8872\n",
      "Epoch 44/60\n",
      "1375/1375 [==============================] - 2s 1ms/step - loss: 0.1911 - accuracy: 0.9308 - val_loss: 0.3346 - val_accuracy: 0.8833\n",
      "Epoch 45/60\n",
      "1375/1375 [==============================] - 2s 1ms/step - loss: 0.1872 - accuracy: 0.9335 - val_loss: 0.3331 - val_accuracy: 0.8847\n",
      "Epoch 46/60\n",
      "1375/1375 [==============================] - 2s 1ms/step - loss: 0.1841 - accuracy: 0.9344 - val_loss: 0.3262 - val_accuracy: 0.8870\n",
      "Epoch 47/60\n",
      "1375/1375 [==============================] - 2s 1ms/step - loss: 0.1819 - accuracy: 0.9362 - val_loss: 0.3221 - val_accuracy: 0.8885\n",
      "Epoch 48/60\n",
      "1375/1375 [==============================] - 2s 2ms/step - loss: 0.1785 - accuracy: 0.9365 - val_loss: 0.3314 - val_accuracy: 0.8837\n",
      "Epoch 49/60\n",
      "1375/1375 [==============================] - 2s 1ms/step - loss: 0.1759 - accuracy: 0.9387 - val_loss: 0.3298 - val_accuracy: 0.8848\n",
      "Epoch 50/60\n",
      "1375/1375 [==============================] - 2s 1ms/step - loss: 0.1727 - accuracy: 0.9390 - val_loss: 0.3280 - val_accuracy: 0.8878\n",
      "Epoch 51/60\n",
      "1375/1375 [==============================] - 2s 1ms/step - loss: 0.1695 - accuracy: 0.9405 - val_loss: 0.3273 - val_accuracy: 0.8864\n",
      "Epoch 52/60\n",
      "1375/1375 [==============================] - 2s 1ms/step - loss: 0.1673 - accuracy: 0.9410 - val_loss: 0.3237 - val_accuracy: 0.8878\n",
      "Epoch 53/60\n",
      "1375/1375 [==============================] - 2s 1ms/step - loss: 0.1656 - accuracy: 0.9414 - val_loss: 0.3412 - val_accuracy: 0.8838\n",
      "Epoch 54/60\n",
      "1375/1375 [==============================] - 2s 1ms/step - loss: 0.1621 - accuracy: 0.9426 - val_loss: 0.3418 - val_accuracy: 0.8795\n",
      "Epoch 55/60\n",
      "1375/1375 [==============================] - 2s 1ms/step - loss: 0.1604 - accuracy: 0.9440 - val_loss: 0.3252 - val_accuracy: 0.8859\n",
      "Epoch 56/60\n",
      "1375/1375 [==============================] - 2s 1ms/step - loss: 0.1574 - accuracy: 0.9441 - val_loss: 0.3387 - val_accuracy: 0.8890\n",
      "Epoch 57/60\n",
      "1375/1375 [==============================] - 2s 1ms/step - loss: 0.1550 - accuracy: 0.9465 - val_loss: 0.3275 - val_accuracy: 0.8875\n",
      "Epoch 58/60\n",
      "1375/1375 [==============================] - 2s 1ms/step - loss: 0.1522 - accuracy: 0.9463 - val_loss: 0.3402 - val_accuracy: 0.8827\n",
      "Epoch 59/60\n",
      "1375/1375 [==============================] - 2s 1ms/step - loss: 0.1503 - accuracy: 0.9461 - val_loss: 0.3345 - val_accuracy: 0.8852\n",
      "Epoch 60/60\n",
      "1375/1375 [==============================] - 2s 2ms/step - loss: 0.1480 - accuracy: 0.9487 - val_loss: 0.3379 - val_accuracy: 0.8845\n"
     ]
    }
   ],
   "source": [
    "history = model.fit(X_train, y_train, epochs=60,\n",
    "                    validation_split=0.2,\n",
    "                    batch_size=32)"
   ]
  },
  {
   "cell_type": "code",
   "execution_count": 18,
   "metadata": {},
   "outputs": [
    {
     "data": {
      "text/plain": [
       "(0.0, 1.0)"
      ]
     },
     "execution_count": 18,
     "metadata": {},
     "output_type": "execute_result"
    },
    {
     "data": {
      "image/png": "[encoded data removed]",
      "text/plain": [
       "<Figure size 576x360 with 1 Axes>"
      ]
     },
     "metadata": {
      "needs_background": "light"
     },
     "output_type": "display_data"
    }
   ],
   "source": [
    "pd.DataFrame(history.history).plot(figsize=(8, 5))\n",
    "plt.grid(True)\n",
    "plt.ylim(0, 1)"
   ]
  },
  {
   "cell_type": "markdown",
   "metadata": {},
   "source": [
    "**Evaluate the model on the test set**"
   ]
  },
  {
   "cell_type": "code",
   "execution_count": 19,
   "metadata": {},
   "outputs": [
    {
     "name": "stdout",
     "output_type": "stream",
     "text": [
      "313/313 [==============================] - 1s 1ms/step - loss: 87.5429 - accuracy: 0.8409\n"
     ]
    },
    {
     "data": {
      "text/plain": [
       "[87.54292297363281, 0.8409000039100647]"
      ]
     },
     "execution_count": 19,
     "metadata": {},
     "output_type": "execute_result"
    }
   ],
   "source": [
    "model.evaluate(X_test, y_test)"
   ]
  },
  {
   "cell_type": "markdown",
   "metadata": {},
   "source": [
    "**Use model to make prediction**"
   ]
  },
  {
   "cell_type": "code",
   "execution_count": 20,
   "metadata": {},
   "outputs": [
    {
     "data": {
      "text/plain": [
       "array([[0., 0., 0., 0., 0., 0., 0., 0., 0., 1.],\n",
       "       [0., 0., 1., 0., 0., 0., 0., 0., 0., 0.],\n",
       "       [0., 1., 0., 0., 0., 0., 0., 0., 0., 0.]], dtype=float32)"
      ]
     },
     "execution_count": 20,
     "metadata": {},
     "output_type": "execute_result"
    }
   ],
   "source": [
    "X_new = X_test[:3]\n",
    "predict_x = model.predict(X_new)\n",
    "predict_x"
   ]
  },
  {
   "cell_type": "code",
   "execution_count": 21,
   "metadata": {},
   "outputs": [
    {
     "data": {
      "text/plain": [
       "<matplotlib.image.AxesImage at 0x12385ceb0>"
      ]
     },
     "execution_count": 21,
     "metadata": {},
     "output_type": "execute_result"
    },
    {
     "data": {
      "image/png": "[encoded data removed]",
      "text/plain": [
       "<Figure size 432x288 with 3 Axes>"
      ]
     },
     "metadata": {
      "needs_background": "light"
     },
     "output_type": "display_data"
    }
   ],
   "source": [
    "plt.subplot(1,3,1)\n",
    "plt.title(class_name[y_test[0]])\n",
    "plt.imshow(X_test[0])\n",
    "plt.subplot(1,3,2)\n",
    "plt.title(class_name[y_test[1]])\n",
    "plt.imshow(X_test[1])\n",
    "plt.subplot(1,3,3)\n",
    "plt.title(class_name[y_test[2]])\n",
    "plt.imshow(X_test[2])"
   ]
  },
  {
   "cell_type": "code",
   "execution_count": 22,
   "metadata": {},
   "outputs": [
    {
     "data": {
      "text/plain": [
       "array([9, 2, 1])"
      ]
     },
     "execution_count": 22,
     "metadata": {},
     "output_type": "execute_result"
    }
   ],
   "source": [
    "classes_x = np.argmax(predict_x, axis=1)\n",
    "classes_x"
   ]
  },
  {
   "cell_type": "code",
   "execution_count": 23,
   "metadata": {},
   "outputs": [
    {
     "data": {
      "text/plain": [
       "array(['Ankel boot', 'Pillover', 'Trouser'], dtype='<U11')"
      ]
     },
     "execution_count": 23,
     "metadata": {},
     "output_type": "execute_result"
    }
   ],
   "source": [
    "np.array(class_name)[classes_x]"
   ]
  }
 ],
 "metadata": {
  "interpreter": {
   "hash": "929f6aac1b114bd6c0bb0bcad75b35c98d865efad62ba9486a569c0b822e9600"
  },
  "kernelspec": {
   "display_name": "Python 3.9.10 ('venv': venv)",
   "language": "python",
   "name": "python3"
  },
  "language_info": {
   "codemirror_mode": {
    "name": "ipython",
    "version": 3
   },
   "file_extension": ".py",
   "mimetype": "text/x-python",
   "name": "python",
   "nbconvert_exporter": "python",
   "pygments_lexer": "ipython3",
   "version": "3.9.10"
  },
  "orig_nbformat": 4
 },
 "nbformat": 4,
 "nbformat_minor": 2
}
